{
 "cells": [
  {
   "cell_type": "code",
   "execution_count": 2,
   "id": "5aff4e09",
   "metadata": {},
   "outputs": [
    {
     "name": "stderr",
     "output_type": "stream",
     "text": [
      "Exception in Tkinter callback\n",
      "Traceback (most recent call last):\n",
      "  File \"/Users/kaoru/opt/anaconda3/envs/py38_DataScience/lib/python3.8/tkinter/__init__.py\", line 1892, in __call__\n",
      "    return self.func(*args)\n",
      "  File \"<ipython-input-2-1e4197744f5d>\", line 6, in btn_click\n",
      "    lang = str(translate(txt_1.get()))\n",
      "  File \"/Users/kaoru/Documents/python_コロナ感染者数/Visualization-of-the-number-of-Covid19-infected-people-by-Python/translate.py\", line 20, in translate\n",
      "    for t in Translator().translate(out.strip().splitlines(), src='en', dest='ja'):\n",
      "  File \"/Users/kaoru/opt/anaconda3/envs/py38_DataScience/lib/python3.8/site-packages/googletrans/client.py\", line 177, in translate\n",
      "    translated = self.translate(item, dest=dest, src=src, **kwargs)\n",
      "  File \"/Users/kaoru/opt/anaconda3/envs/py38_DataScience/lib/python3.8/site-packages/googletrans/client.py\", line 182, in translate\n",
      "    data = self._translate(text, dest, src, kwargs)\n",
      "  File \"/Users/kaoru/opt/anaconda3/envs/py38_DataScience/lib/python3.8/site-packages/googletrans/client.py\", line 78, in _translate\n",
      "    token = self.token_acquirer.do(text)\n",
      "  File \"/Users/kaoru/opt/anaconda3/envs/py38_DataScience/lib/python3.8/site-packages/googletrans/gtoken.py\", line 194, in do\n",
      "    self._update()\n",
      "  File \"/Users/kaoru/opt/anaconda3/envs/py38_DataScience/lib/python3.8/site-packages/googletrans/gtoken.py\", line 62, in _update\n",
      "    code = self.RE_TKK.search(r.text).group(1).replace('var ', '')\n",
      "AttributeError: 'NoneType' object has no attribute 'group'\n",
      "Exception in Tkinter callback\n",
      "Traceback (most recent call last):\n",
      "  File \"/Users/kaoru/opt/anaconda3/envs/py38_DataScience/lib/python3.8/tkinter/__init__.py\", line 1892, in __call__\n",
      "    return self.func(*args)\n",
      "  File \"<ipython-input-2-1e4197744f5d>\", line 6, in btn_click\n",
      "    lang = str(translate(txt_1.get()))\n",
      "  File \"/Users/kaoru/Documents/python_コロナ感染者数/Visualization-of-the-number-of-Covid19-infected-people-by-Python/translate.py\", line 20, in translate\n",
      "    for t in Translator().translate(out.strip().splitlines(), src='en', dest='ja'):\n",
      "  File \"/Users/kaoru/opt/anaconda3/envs/py38_DataScience/lib/python3.8/site-packages/googletrans/client.py\", line 177, in translate\n",
      "    translated = self.translate(item, dest=dest, src=src, **kwargs)\n",
      "  File \"/Users/kaoru/opt/anaconda3/envs/py38_DataScience/lib/python3.8/site-packages/googletrans/client.py\", line 182, in translate\n",
      "    data = self._translate(text, dest, src, kwargs)\n",
      "  File \"/Users/kaoru/opt/anaconda3/envs/py38_DataScience/lib/python3.8/site-packages/googletrans/client.py\", line 78, in _translate\n",
      "    token = self.token_acquirer.do(text)\n",
      "  File \"/Users/kaoru/opt/anaconda3/envs/py38_DataScience/lib/python3.8/site-packages/googletrans/gtoken.py\", line 194, in do\n",
      "    self._update()\n",
      "  File \"/Users/kaoru/opt/anaconda3/envs/py38_DataScience/lib/python3.8/site-packages/googletrans/gtoken.py\", line 62, in _update\n",
      "    code = self.RE_TKK.search(r.text).group(1).replace('var ', '')\n",
      "AttributeError: 'NoneType' object has no attribute 'group'\n"
     ]
    },
    {
     "ename": "SystemExit",
     "evalue": "0",
     "output_type": "error",
     "traceback": [
      "An exception has occurred, use %tb to see the full traceback.\n",
      "\u001b[0;31mSystemExit\u001b[0m\u001b[0;31m:\u001b[0m 0\n"
     ]
    },
    {
     "name": "stderr",
     "output_type": "stream",
     "text": [
      "/Users/kaoru/opt/anaconda3/envs/py38_DataScience/lib/python3.8/site-packages/IPython/core/interactiveshell.py:3445: UserWarning: To exit: use 'exit', 'quit', or Ctrl-D.\n",
      "  warn(\"To exit: use 'exit', 'quit', or Ctrl-D.\", stacklevel=1)\n"
     ]
    }
   ],
   "source": [
    "import tkinter\n",
    "import translate\n",
    "from translate import translate\n",
    " \n",
    "def btn_click():\n",
    "    lang = str(translate(txt_1.get()))\n",
    "    txt_2.insert(0, lang)\n",
    " \n",
    "# 画面作成\n",
    "tki = tkinter.Tk()\n",
    "tki.geometry('300x300')\n",
    "tki.title('翻訳機')\n",
    " \n",
    "# ラベル\n",
    "lbl_1 = tkinter.Label(text='英文:')\n",
    "lbl_1.place(x=30, y=70)\n",
    "lbl_2 = tkinter.Label(text='日本文:')\n",
    "lbl_2.place(x=30, y=100)\n",
    " \n",
    "# テキストボックス\n",
    "txt_1 = tkinter.Entry(width=20)\n",
    "txt_1.place(x=90, y=70)\n",
    "txt_2 = tkinter.Entry(width=20)\n",
    "txt_2.place(x=90, y=100)\n",
    " \n",
    "# ボタン\n",
    "btn = tkinter.Button(tki, text='翻訳', command=btn_click)\n",
    "btn.place(x=140, y=170)\n",
    " \n",
    "# 画面をそのまま表示\n",
    "tki.mainloop()"
   ]
  },
  {
   "cell_type": "code",
   "execution_count": null,
   "id": "91473771",
   "metadata": {},
   "outputs": [],
   "source": []
  }
 ],
 "metadata": {
  "kernelspec": {
   "display_name": "Python 3",
   "language": "python",
   "name": "python3"
  },
  "language_info": {
   "codemirror_mode": {
    "name": "ipython",
    "version": 3
   },
   "file_extension": ".py",
   "mimetype": "text/x-python",
   "name": "python",
   "nbconvert_exporter": "python",
   "pygments_lexer": "ipython3",
   "version": "3.8.8"
  }
 },
 "nbformat": 4,
 "nbformat_minor": 5
}
